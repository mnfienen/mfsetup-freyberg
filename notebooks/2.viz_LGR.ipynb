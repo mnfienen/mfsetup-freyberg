{
 "cells": [
  {
   "cell_type": "code",
   "execution_count": 1,
   "id": "spoken-resource",
   "metadata": {},
   "outputs": [],
   "source": [
    "import flopy as fp\n",
    "import mfexport\n",
    "from shapely.geometry import Point, Polygon\n",
    "import geopandas as gp\n",
    "import numpy as np\n",
    "import os"
   ]
  },
  {
   "cell_type": "code",
   "execution_count": 7,
   "id": "chemical-currency",
   "metadata": {},
   "outputs": [],
   "source": [
    "AOI = gp.read_file('../LGR_AOI.shp')\n",
    "x,y = AOI.geometry[0].exterior.coords.xy"
   ]
  },
  {
   "cell_type": "code",
   "execution_count": 16,
   "id": "norman-charter",
   "metadata": {},
   "outputs": [
    {
     "data": {
      "text/plain": [
       "array('d', [568189.1369142552, 569189.1369142552, 569189.1369142552, 568189.1369142552, 568189.1369142552])"
      ]
     },
     "execution_count": 16,
     "metadata": {},
     "output_type": "execute_result"
    }
   ],
   "source": [
    "x"
   ]
  },
  {
   "cell_type": "code",
   "execution_count": 17,
   "id": "loving-yesterday",
   "metadata": {},
   "outputs": [
    {
     "data": {
      "text/plain": [
       "array('d', [6288637.573219389, 6288637.573219389, 6285887.573219389, 6285887.573219389, 6288637.573219389])"
      ]
     },
     "execution_count": 17,
     "metadata": {},
     "output_type": "execute_result"
    }
   ],
   "source": [
    "y"
   ]
  },
  {
   "cell_type": "code",
   "execution_count": 20,
   "id": "discrete-harrison",
   "metadata": {},
   "outputs": [],
   "source": [
    "grid = mfexport.MFexportGrid(delc=[25.]*15*10,  # grid spacing in meters\n",
    "                             delr=[25.]*8*10, \n",
    "                             xul=np.min(x)-500, yul=np.max(y)+500, # upper left corner in CRS\n",
    "                             epsg=2821 # epsg reference for projected CRS\n",
    "                            )"
   ]
  },
  {
   "cell_type": "code",
   "execution_count": 21,
   "id": "scenic-thermal",
   "metadata": {},
   "outputs": [
    {
     "name": "stdout",
     "output_type": "stream",
     "text": [
      "wrote ../inset_grid.tmp.shp\n"
     ]
    }
   ],
   "source": [
    "grid.write_shapefile('../inset_grid.tmp.shp')"
   ]
  },
  {
   "cell_type": "code",
   "execution_count": null,
   "id": "structured-affair",
   "metadata": {},
   "outputs": [],
   "source": []
  }
 ],
 "metadata": {
  "kernelspec": {
   "display_name": "Python 3",
   "language": "python",
   "name": "python3"
  },
  "language_info": {
   "codemirror_mode": {
    "name": "ipython",
    "version": 3
   },
   "file_extension": ".py",
   "mimetype": "text/x-python",
   "name": "python",
   "nbconvert_exporter": "python",
   "pygments_lexer": "ipython3",
   "version": "3.8.6"
  }
 },
 "nbformat": 4,
 "nbformat_minor": 5
}
