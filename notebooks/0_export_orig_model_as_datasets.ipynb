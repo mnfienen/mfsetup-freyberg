{
 "cells": [
  {
   "cell_type": "code",
   "execution_count": 24,
   "id": "subsequent-mystery",
   "metadata": {},
   "outputs": [],
   "source": [
    "import flopy as fp\n",
    "import mfexport\n",
    "from shapely.geometry import Point, Polygon\n",
    "import geopandas as gp\n",
    "import numpy as np\n",
    "import os"
   ]
  },
  {
   "cell_type": "code",
   "execution_count": 2,
   "id": "perfect-facial",
   "metadata": {},
   "outputs": [],
   "source": [
    "# first set up a modflow grid"
   ]
  },
  {
   "cell_type": "code",
   "execution_count": 3,
   "id": "annoying-algorithm",
   "metadata": {},
   "outputs": [],
   "source": [
    "yll,xll = 37.27943902599466, -115.93436498271853"
   ]
  },
  {
   "cell_type": "code",
   "execution_count": 4,
   "id": "colonial-sacramento",
   "metadata": {},
   "outputs": [],
   "source": [
    "xy = gp.GeoDataFrame({'pts':['xllyll'],'geometry':[Point(xll,yll)]}, crs=4326)\n",
    "xy = xy.to_crs(2821)\n",
    "xy.to_file('testpt.shp')"
   ]
  },
  {
   "cell_type": "code",
   "execution_count": 5,
   "id": "turkish-kingdom",
   "metadata": {},
   "outputs": [],
   "source": [
    "x,y = xy.geometry[0].xy\n",
    "x=x[0]\n",
    "y=y[0]"
   ]
  },
  {
   "cell_type": "code",
   "execution_count": 6,
   "id": "orange-medicine",
   "metadata": {},
   "outputs": [
    {
     "name": "stdout",
     "output_type": "stream",
     "text": [
      "loading simulation...\n",
      "  loading simulation name file...\n",
      "  loading tdis package...\n",
      "  loading model gwf6...\n",
      "    loading package dis...\n",
      "    loading package ic...\n",
      "    loading package npf...\n",
      "    loading package sto...\n",
      "    loading package oc...\n",
      "    loading package wel...\n",
      "    loading package rch...\n",
      "    loading package ghb...\n",
      "    loading package sfr...\n",
      "    loading package obs...\n",
      "  loading ims package freyberg6...\n"
     ]
    }
   ],
   "source": [
    "m = fp.mf6.MFSimulation.load(sim_ws = '../orig_mf6/').get_model()"
   ]
  },
  {
   "cell_type": "code",
   "execution_count": 7,
   "id": "breeding-lexington",
   "metadata": {},
   "outputs": [],
   "source": [
    "grid = mfexport.MFexportGrid(delr=m.dis.delr.array,  # grid spacing in meters\n",
    "                             delc=m.dis.delc.array, \n",
    "                             xul=x, yul=y+np.sum(m.dis.delc.array), # upper left corner in CRS\n",
    "                             epsg=2821 # epsg reference for projected CRS\n",
    "                            )"
   ]
  },
  {
   "cell_type": "code",
   "execution_count": 8,
   "id": "electrical-hanging",
   "metadata": {},
   "outputs": [
    {
     "name": "stdout",
     "output_type": "stream",
     "text": [
      "\n",
      "dis package...\n",
      "wrote ../orig_mf6/postproc/rasters/thickness_lay0.tif\n",
      "wrote ../orig_mf6/postproc/rasters/thickness_lay1.tif\n",
      "wrote ../orig_mf6/postproc/rasters/thickness_lay2.tif\n",
      "top:\n",
      "wrote ../orig_mf6/postproc/rasters/top.tif\n",
      "botm:\n",
      "wrote ../orig_mf6/postproc/rasters/botm_lay0.tif\n",
      "wrote ../orig_mf6/postproc/rasters/botm_lay1.tif\n",
      "wrote ../orig_mf6/postproc/rasters/botm_lay2.tif\n",
      "idomain:\n",
      "wrote ../orig_mf6/postproc/rasters/idomain_lay0.tif\n",
      "wrote ../orig_mf6/postproc/rasters/idomain_lay1.tif\n",
      "wrote ../orig_mf6/postproc/rasters/idomain_lay2.tif\n",
      "\n",
      "ic package...\n",
      "strt:\n",
      "wrote ../orig_mf6/postproc/rasters/strt_lay0.tif\n",
      "wrote ../orig_mf6/postproc/rasters/strt_lay1.tif\n",
      "wrote ../orig_mf6/postproc/rasters/strt_lay2.tif\n",
      "\n",
      "npf package...\n",
      "icelltype:\n",
      "wrote ../orig_mf6/postproc/rasters/icelltype_lay0.tif\n",
      "wrote ../orig_mf6/postproc/rasters/icelltype_lay1.tif\n",
      "wrote ../orig_mf6/postproc/rasters/icelltype_lay2.tif\n",
      "k:\n",
      "wrote ../orig_mf6/postproc/rasters/k_lay0.tif\n",
      "wrote ../orig_mf6/postproc/rasters/k_lay1.tif\n",
      "wrote ../orig_mf6/postproc/rasters/k_lay2.tif\n",
      "k33:\n",
      "wrote ../orig_mf6/postproc/rasters/k33_lay0.tif\n",
      "wrote ../orig_mf6/postproc/rasters/k33_lay1.tif\n",
      "wrote ../orig_mf6/postproc/rasters/k33_lay2.tif\n",
      "\n",
      "sto package...\n",
      "iconvert:\n",
      "wrote ../orig_mf6/postproc/rasters/iconvert_lay0.tif\n",
      "wrote ../orig_mf6/postproc/rasters/iconvert_lay1.tif\n",
      "wrote ../orig_mf6/postproc/rasters/iconvert_lay2.tif\n",
      "ss:\n",
      "wrote ../orig_mf6/postproc/rasters/ss_lay0.tif\n",
      "wrote ../orig_mf6/postproc/rasters/ss_lay1.tif\n",
      "wrote ../orig_mf6/postproc/rasters/ss_lay2.tif\n",
      "sy:\n",
      "wrote ../orig_mf6/postproc/rasters/sy_lay0.tif\n",
      "wrote ../orig_mf6/postproc/rasters/sy_lay1.tif\n",
      "wrote ../orig_mf6/postproc/rasters/sy_lay2.tif\n",
      "\n",
      "wel_0 package...\n",
      "writing ../orig_mf6/postproc/shps/wel0_stress_period_data.shp... Done\n",
      "q:\n",
      "\n",
      "rch_0 package...\n",
      "recharge:\n",
      "wrote ../orig_mf6/postproc/rasters/recharge_per0.tif\n",
      "wrote ../orig_mf6/postproc/rasters/recharge_per1.tif\n",
      "wrote ../orig_mf6/postproc/rasters/recharge_per2.tif\n",
      "wrote ../orig_mf6/postproc/rasters/recharge_per3.tif\n",
      "wrote ../orig_mf6/postproc/rasters/recharge_per4.tif\n",
      "wrote ../orig_mf6/postproc/rasters/recharge_per5.tif\n",
      "wrote ../orig_mf6/postproc/rasters/recharge_per6.tif\n",
      "wrote ../orig_mf6/postproc/rasters/recharge_per7.tif\n",
      "wrote ../orig_mf6/postproc/rasters/recharge_per8.tif\n",
      "wrote ../orig_mf6/postproc/rasters/recharge_per9.tif\n",
      "wrote ../orig_mf6/postproc/rasters/recharge_per10.tif\n",
      "wrote ../orig_mf6/postproc/rasters/recharge_per11.tif\n",
      "wrote ../orig_mf6/postproc/rasters/recharge_per12.tif\n",
      "wrote ../orig_mf6/postproc/rasters/recharge_per13.tif\n",
      "wrote ../orig_mf6/postproc/rasters/recharge_per14.tif\n",
      "wrote ../orig_mf6/postproc/rasters/recharge_per15.tif\n",
      "wrote ../orig_mf6/postproc/rasters/recharge_per16.tif\n",
      "wrote ../orig_mf6/postproc/rasters/recharge_per17.tif\n",
      "wrote ../orig_mf6/postproc/rasters/recharge_per18.tif\n",
      "wrote ../orig_mf6/postproc/rasters/recharge_per19.tif\n",
      "wrote ../orig_mf6/postproc/rasters/recharge_per20.tif\n",
      "wrote ../orig_mf6/postproc/rasters/recharge_per21.tif\n",
      "wrote ../orig_mf6/postproc/rasters/recharge_per22.tif\n",
      "wrote ../orig_mf6/postproc/rasters/recharge_per23.tif\n",
      "wrote ../orig_mf6/postproc/rasters/recharge_per24.tif\n",
      "\n",
      "ghb_0 package...\n",
      "writing ../orig_mf6/postproc/shps/ghb0_stress_period_data.shp... Done\n",
      "bhead:\n",
      "cond:\n",
      "\n",
      "sfr_obs package...\n",
      "skipped, not implemented yet\n",
      "\n",
      "sfr_1 package...\n",
      "skipped, not implemented yet\n",
      "\n",
      "obs_0 package...\n",
      "writing ../orig_mf6/postproc/shps/obs0_stress_period_data.shp... Done\n"
     ]
    },
    {
     "data": {
      "text/plain": [
       "['../orig_mf6/postproc/rasters/thickness_lay0.tif',\n",
       " '../orig_mf6/postproc/pdfs/thickness_lay0.pdf',\n",
       " '../orig_mf6/postproc/rasters/thickness_lay1.tif',\n",
       " '../orig_mf6/postproc/pdfs/thickness_lay1.pdf',\n",
       " '../orig_mf6/postproc/rasters/thickness_lay2.tif',\n",
       " '../orig_mf6/postproc/pdfs/thickness_lay2.pdf',\n",
       " '../orig_mf6/postproc/rasters/top.tif',\n",
       " '../orig_mf6/postproc/pdfs/top.pdf',\n",
       " '../orig_mf6/postproc/rasters/botm_lay0.tif',\n",
       " '../orig_mf6/postproc/pdfs/botm_lay0.pdf',\n",
       " '../orig_mf6/postproc/rasters/botm_lay1.tif',\n",
       " '../orig_mf6/postproc/pdfs/botm_lay1.pdf',\n",
       " '../orig_mf6/postproc/rasters/botm_lay2.tif',\n",
       " '../orig_mf6/postproc/pdfs/botm_lay2.pdf',\n",
       " '../orig_mf6/postproc/rasters/idomain_lay0.tif',\n",
       " '../orig_mf6/postproc/pdfs/idomain_lay0.pdf',\n",
       " '../orig_mf6/postproc/rasters/idomain_lay1.tif',\n",
       " '../orig_mf6/postproc/pdfs/idomain_lay1.pdf',\n",
       " '../orig_mf6/postproc/rasters/idomain_lay2.tif',\n",
       " '../orig_mf6/postproc/pdfs/idomain_lay2.pdf',\n",
       " '../orig_mf6/postproc/rasters/strt_lay0.tif',\n",
       " '../orig_mf6/postproc/pdfs/strt_lay0.pdf',\n",
       " '../orig_mf6/postproc/rasters/strt_lay1.tif',\n",
       " '../orig_mf6/postproc/pdfs/strt_lay1.pdf',\n",
       " '../orig_mf6/postproc/rasters/strt_lay2.tif',\n",
       " '../orig_mf6/postproc/pdfs/strt_lay2.pdf',\n",
       " '../orig_mf6/postproc/rasters/icelltype_lay0.tif',\n",
       " '../orig_mf6/postproc/pdfs/icelltype_lay0.pdf',\n",
       " '../orig_mf6/postproc/rasters/icelltype_lay1.tif',\n",
       " '../orig_mf6/postproc/pdfs/icelltype_lay1.pdf',\n",
       " '../orig_mf6/postproc/rasters/icelltype_lay2.tif',\n",
       " '../orig_mf6/postproc/pdfs/icelltype_lay2.pdf',\n",
       " '../orig_mf6/postproc/rasters/k_lay0.tif',\n",
       " '../orig_mf6/postproc/pdfs/k_lay0.pdf',\n",
       " '../orig_mf6/postproc/rasters/k_lay1.tif',\n",
       " '../orig_mf6/postproc/pdfs/k_lay1.pdf',\n",
       " '../orig_mf6/postproc/rasters/k_lay2.tif',\n",
       " '../orig_mf6/postproc/pdfs/k_lay2.pdf',\n",
       " '../orig_mf6/postproc/rasters/k33_lay0.tif',\n",
       " '../orig_mf6/postproc/pdfs/k33_lay0.pdf',\n",
       " '../orig_mf6/postproc/rasters/k33_lay1.tif',\n",
       " '../orig_mf6/postproc/pdfs/k33_lay1.pdf',\n",
       " '../orig_mf6/postproc/rasters/k33_lay2.tif',\n",
       " '../orig_mf6/postproc/pdfs/k33_lay2.pdf',\n",
       " '../orig_mf6/postproc/rasters/iconvert_lay0.tif',\n",
       " '../orig_mf6/postproc/pdfs/iconvert_lay0.pdf',\n",
       " '../orig_mf6/postproc/rasters/iconvert_lay1.tif',\n",
       " '../orig_mf6/postproc/pdfs/iconvert_lay1.pdf',\n",
       " '../orig_mf6/postproc/rasters/iconvert_lay2.tif',\n",
       " '../orig_mf6/postproc/pdfs/iconvert_lay2.pdf',\n",
       " '../orig_mf6/postproc/rasters/ss_lay0.tif',\n",
       " '../orig_mf6/postproc/pdfs/ss_lay0.pdf',\n",
       " '../orig_mf6/postproc/rasters/ss_lay1.tif',\n",
       " '../orig_mf6/postproc/pdfs/ss_lay1.pdf',\n",
       " '../orig_mf6/postproc/rasters/ss_lay2.tif',\n",
       " '../orig_mf6/postproc/pdfs/ss_lay2.pdf',\n",
       " '../orig_mf6/postproc/rasters/sy_lay0.tif',\n",
       " '../orig_mf6/postproc/pdfs/sy_lay0.pdf',\n",
       " '../orig_mf6/postproc/rasters/sy_lay1.tif',\n",
       " '../orig_mf6/postproc/pdfs/sy_lay1.pdf',\n",
       " '../orig_mf6/postproc/rasters/sy_lay2.tif',\n",
       " '../orig_mf6/postproc/pdfs/sy_lay2.pdf',\n",
       " '../orig_mf6/postproc/shps/wel0_stress_period_data.shp',\n",
       " '../orig_mf6/postproc/pdfs/wel0_stress_period_data.pdf',\n",
       " '../orig_mf6/postproc/pdfs/recharge_summary.pdf',\n",
       " '../orig_mf6/postproc/rasters/recharge_per0.tif',\n",
       " '../orig_mf6/postproc/pdfs/recharge_per0.pdf',\n",
       " '../orig_mf6/postproc/rasters/recharge_per1.tif',\n",
       " '../orig_mf6/postproc/pdfs/recharge_per1.pdf',\n",
       " '../orig_mf6/postproc/rasters/recharge_per2.tif',\n",
       " '../orig_mf6/postproc/pdfs/recharge_per2.pdf',\n",
       " '../orig_mf6/postproc/rasters/recharge_per3.tif',\n",
       " '../orig_mf6/postproc/pdfs/recharge_per3.pdf',\n",
       " '../orig_mf6/postproc/rasters/recharge_per4.tif',\n",
       " '../orig_mf6/postproc/pdfs/recharge_per4.pdf',\n",
       " '../orig_mf6/postproc/rasters/recharge_per5.tif',\n",
       " '../orig_mf6/postproc/pdfs/recharge_per5.pdf',\n",
       " '../orig_mf6/postproc/rasters/recharge_per6.tif',\n",
       " '../orig_mf6/postproc/pdfs/recharge_per6.pdf',\n",
       " '../orig_mf6/postproc/rasters/recharge_per7.tif',\n",
       " '../orig_mf6/postproc/pdfs/recharge_per7.pdf',\n",
       " '../orig_mf6/postproc/rasters/recharge_per8.tif',\n",
       " '../orig_mf6/postproc/pdfs/recharge_per8.pdf',\n",
       " '../orig_mf6/postproc/rasters/recharge_per9.tif',\n",
       " '../orig_mf6/postproc/pdfs/recharge_per9.pdf',\n",
       " '../orig_mf6/postproc/rasters/recharge_per10.tif',\n",
       " '../orig_mf6/postproc/pdfs/recharge_per10.pdf',\n",
       " '../orig_mf6/postproc/rasters/recharge_per11.tif',\n",
       " '../orig_mf6/postproc/pdfs/recharge_per11.pdf',\n",
       " '../orig_mf6/postproc/rasters/recharge_per12.tif',\n",
       " '../orig_mf6/postproc/pdfs/recharge_per12.pdf',\n",
       " '../orig_mf6/postproc/rasters/recharge_per13.tif',\n",
       " '../orig_mf6/postproc/pdfs/recharge_per13.pdf',\n",
       " '../orig_mf6/postproc/rasters/recharge_per14.tif',\n",
       " '../orig_mf6/postproc/pdfs/recharge_per14.pdf',\n",
       " '../orig_mf6/postproc/rasters/recharge_per15.tif',\n",
       " '../orig_mf6/postproc/pdfs/recharge_per15.pdf',\n",
       " '../orig_mf6/postproc/rasters/recharge_per16.tif',\n",
       " '../orig_mf6/postproc/pdfs/recharge_per16.pdf',\n",
       " '../orig_mf6/postproc/rasters/recharge_per17.tif',\n",
       " '../orig_mf6/postproc/pdfs/recharge_per17.pdf',\n",
       " '../orig_mf6/postproc/rasters/recharge_per18.tif',\n",
       " '../orig_mf6/postproc/pdfs/recharge_per18.pdf',\n",
       " '../orig_mf6/postproc/rasters/recharge_per19.tif',\n",
       " '../orig_mf6/postproc/pdfs/recharge_per19.pdf',\n",
       " '../orig_mf6/postproc/rasters/recharge_per20.tif',\n",
       " '../orig_mf6/postproc/pdfs/recharge_per20.pdf',\n",
       " '../orig_mf6/postproc/rasters/recharge_per21.tif',\n",
       " '../orig_mf6/postproc/pdfs/recharge_per21.pdf',\n",
       " '../orig_mf6/postproc/rasters/recharge_per22.tif',\n",
       " '../orig_mf6/postproc/pdfs/recharge_per22.pdf',\n",
       " '../orig_mf6/postproc/rasters/recharge_per23.tif',\n",
       " '../orig_mf6/postproc/pdfs/recharge_per23.pdf',\n",
       " '../orig_mf6/postproc/rasters/recharge_per24.tif',\n",
       " '../orig_mf6/postproc/pdfs/recharge_per24.pdf',\n",
       " '../orig_mf6/postproc/shps/ghb0_stress_period_data.shp',\n",
       " '../orig_mf6/postproc/pdfs/ghb0_stress_period_data.pdf',\n",
       " '../orig_mf6/postproc/pdfs/ghb0_stress_period_data.pdf',\n",
       " '../orig_mf6/postproc/shps/obs0_stress_period_data.shp']"
      ]
     },
     "execution_count": 8,
     "metadata": {},
     "output_type": "execute_result"
    }
   ],
   "source": [
    "mfexport.export(m, grid, output_path='../orig_mf6/postproc')"
   ]
  },
  {
   "cell_type": "code",
   "execution_count": 9,
   "id": "fresh-george",
   "metadata": {},
   "outputs": [
    {
     "name": "stdout",
     "output_type": "stream",
     "text": [
      "wrote ../orig_mf6/postproc/shps/orig_grid.shp\n"
     ]
    }
   ],
   "source": [
    "grid.write_shapefile('../orig_mf6/postproc/shps/orig_grid.shp')"
   ]
  },
  {
   "cell_type": "markdown",
   "id": "contemporary-polymer",
   "metadata": {},
   "source": [
    "# now let's set up the new model - need to define a few things"
   ]
  },
  {
   "cell_type": "code",
   "execution_count": 10,
   "id": "grateful-receipt",
   "metadata": {},
   "outputs": [
    {
     "name": "stdout",
     "output_type": "stream",
     "text": [
      "40 20 3\n"
     ]
    }
   ],
   "source": [
    "nrow,ncol, nlay = m.dis.nrow.array, m.dis.ncol.array, m.dis.nlay.array\n",
    "print(nrow,ncol, nlay)"
   ]
  },
  {
   "cell_type": "code",
   "execution_count": 11,
   "id": "under-transmission",
   "metadata": {},
   "outputs": [
    {
     "data": {
      "text/plain": [
       "xll:564939.1369142552; yll:6280887.573219389; rotation:0.0; proj4_str:epsg:2821; units:undefined; lenuni:0"
      ]
     },
     "execution_count": 11,
     "metadata": {},
     "output_type": "execute_result"
    }
   ],
   "source": [
    "grid"
   ]
  },
  {
   "cell_type": "code",
   "execution_count": 12,
   "id": "based-disease",
   "metadata": {},
   "outputs": [
    {
     "name": "stdout",
     "output_type": "stream",
     "text": [
      "        0: 'orig_mf6/postproc/rasters/recharge_per0.tif'  # \n",
      "        1: 'orig_mf6/postproc/rasters/recharge_per1.tif'  # \n",
      "        2: 'orig_mf6/postproc/rasters/recharge_per2.tif'  # \n",
      "        3: 'orig_mf6/postproc/rasters/recharge_per3.tif'  # \n",
      "        4: 'orig_mf6/postproc/rasters/recharge_per4.tif'  # \n",
      "        5: 'orig_mf6/postproc/rasters/recharge_per5.tif'  # \n",
      "        6: 'orig_mf6/postproc/rasters/recharge_per6.tif'  # \n",
      "        7: 'orig_mf6/postproc/rasters/recharge_per7.tif'  # \n",
      "        8: 'orig_mf6/postproc/rasters/recharge_per8.tif'  # \n",
      "        9: 'orig_mf6/postproc/rasters/recharge_per9.tif'  # \n",
      "        10: 'orig_mf6/postproc/rasters/recharge_per10.tif'  # \n",
      "        11: 'orig_mf6/postproc/rasters/recharge_per11.tif'  # \n",
      "        12: 'orig_mf6/postproc/rasters/recharge_per12.tif'  # \n",
      "        13: 'orig_mf6/postproc/rasters/recharge_per13.tif'  # \n",
      "        14: 'orig_mf6/postproc/rasters/recharge_per14.tif'  # \n",
      "        15: 'orig_mf6/postproc/rasters/recharge_per15.tif'  # \n",
      "        16: 'orig_mf6/postproc/rasters/recharge_per16.tif'  # \n",
      "        17: 'orig_mf6/postproc/rasters/recharge_per17.tif'  # \n",
      "        18: 'orig_mf6/postproc/rasters/recharge_per18.tif'  # \n",
      "        19: 'orig_mf6/postproc/rasters/recharge_per19.tif'  # \n",
      "        20: 'orig_mf6/postproc/rasters/recharge_per20.tif'  # \n",
      "        21: 'orig_mf6/postproc/rasters/recharge_per21.tif'  # \n",
      "        22: 'orig_mf6/postproc/rasters/recharge_per22.tif'  # \n",
      "        23: 'orig_mf6/postproc/rasters/recharge_per23.tif'  # \n",
      "        24: 'orig_mf6/postproc/rasters/recharge_per24.tif'  # \n"
     ]
    },
    {
     "data": {
      "text/plain": [
       "[None,\n",
       " None,\n",
       " None,\n",
       " None,\n",
       " None,\n",
       " None,\n",
       " None,\n",
       " None,\n",
       " None,\n",
       " None,\n",
       " None,\n",
       " None,\n",
       " None,\n",
       " None,\n",
       " None,\n",
       " None,\n",
       " None,\n",
       " None,\n",
       " None,\n",
       " None,\n",
       " None,\n",
       " None,\n",
       " None,\n",
       " None,\n",
       " None]"
      ]
     },
     "execution_count": 12,
     "metadata": {},
     "output_type": "execute_result"
    }
   ],
   "source": [
    "[print(f\"        {i}: 'orig_mf6/postproc/rasters/recharge_per{i}.tif'  # \") for i in range(25)]"
   ]
  },
  {
   "cell_type": "code",
   "execution_count": 13,
   "id": "portuguese-narrative",
   "metadata": {},
   "outputs": [],
   "source": [
    "# locate area of interest for LGR"
   ]
  },
  {
   "cell_type": "code",
   "execution_count": 14,
   "id": "raised-chicago",
   "metadata": {},
   "outputs": [],
   "source": [
    "UL = grid.get_cell_vertices(8,13)"
   ]
  },
  {
   "cell_type": "code",
   "execution_count": 15,
   "id": "likely-operator",
   "metadata": {},
   "outputs": [],
   "source": [
    "xUL = np.min([x[0] for x in UL])\n",
    "yUL = np.min([y[1] for y in UL])\n"
   ]
  },
  {
   "cell_type": "code",
   "execution_count": 16,
   "id": "meaningful-profession",
   "metadata": {},
   "outputs": [],
   "source": [
    "LR = grid.get_cell_vertices(19,17)"
   ]
  },
  {
   "cell_type": "code",
   "execution_count": 17,
   "id": "molecular-poland",
   "metadata": {},
   "outputs": [],
   "source": [
    "xLR = np.min([x[0] for x in LR])\n",
    "yLR = np.min([y[1] for y in LR])"
   ]
  },
  {
   "cell_type": "code",
   "execution_count": 18,
   "id": "juvenile-homeless",
   "metadata": {},
   "outputs": [],
   "source": [
    "AOI_Poly = Polygon([(xUL,yUL),(xLR,yUL),(xLR,yLR),(xUL,yLR),(xUL,yUL)])"
   ]
  },
  {
   "cell_type": "code",
   "execution_count": 28,
   "id": "informational-rhythm",
   "metadata": {},
   "outputs": [],
   "source": [
    "gp.GeoDataFrame({'poly':[\"AOI\"],'geometry':[AOI_Poly]}, crs=2821).to_file(os.path.join('..','LGR_AOI.shp'))"
   ]
  }
 ],
 "metadata": {
  "kernelspec": {
   "display_name": "Python 3",
   "language": "python",
   "name": "python3"
  },
  "language_info": {
   "codemirror_mode": {
    "name": "ipython",
    "version": 3
   },
   "file_extension": ".py",
   "mimetype": "text/x-python",
   "name": "python",
   "nbconvert_exporter": "python",
   "pygments_lexer": "ipython3",
   "version": "3.8.6"
  }
 },
 "nbformat": 4,
 "nbformat_minor": 5
}
